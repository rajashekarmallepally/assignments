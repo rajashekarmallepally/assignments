{
 "cells": [
  {
   "cell_type": "markdown",
   "metadata": {},
   "source": [
    "### Write a function to find moving average in an array over a window: Test it over [3, 5, 7, 2, 8, 10, 11, 65, 72, 81, 99, 100, 150] and window of 3"
   ]
  },
  {
   "cell_type": "code",
   "execution_count": 1,
   "metadata": {},
   "outputs": [],
   "source": [
    "import numpy as np"
   ]
  },
  {
   "cell_type": "code",
   "execution_count": 28,
   "metadata": {},
   "outputs": [],
   "source": [
    "def moving_average(values,window):\n",
    "    \n",
    "    #cumsum from numpy for cumulative sum if numbers\n",
    "    a_sum = np.cumsum(values)\n",
    "    \n",
    "    #breaking and substracing the array based on the window\n",
    "    a_sum[window : ] = a_sum[window : ] - a_sum[: -window]\n",
    "    print( \"the moving avg is : \",(a_sum[window - 1 :] / window).round(2))\n",
    "    print('length of the list : ',(a_sum[window - 1 :] / window).size)\n",
    "\n",
    "    \n",
    "# giving window and values\n",
    "\n",
    "window = 3\n",
    "values = [3,5,7,2,8,10,11,65,72,81,99,100,150]\n",
    "\n",
    "\n"
   ]
  },
  {
   "cell_type": "code",
   "execution_count": 29,
   "metadata": {},
   "outputs": [
    {
     "name": "stdout",
     "output_type": "stream",
     "text": [
      "the moving avg is :  [  5.     4.67   5.67   6.67   9.67  28.67  49.33  72.67  84.    93.33\n",
      " 116.33]\n",
      "length of the list :  11\n"
     ]
    }
   ],
   "source": [
    "moving_average(values,window)"
   ]
  },
  {
   "cell_type": "code",
   "execution_count": null,
   "metadata": {},
   "outputs": [],
   "source": []
  }
 ],
 "metadata": {
  "kernelspec": {
   "display_name": "Python 3",
   "language": "python",
   "name": "python3"
  },
  "language_info": {
   "codemirror_mode": {
    "name": "ipython",
    "version": 3
   },
   "file_extension": ".py",
   "mimetype": "text/x-python",
   "name": "python",
   "nbconvert_exporter": "python",
   "pygments_lexer": "ipython3",
   "version": "3.7.6"
  }
 },
 "nbformat": 4,
 "nbformat_minor": 2
}
